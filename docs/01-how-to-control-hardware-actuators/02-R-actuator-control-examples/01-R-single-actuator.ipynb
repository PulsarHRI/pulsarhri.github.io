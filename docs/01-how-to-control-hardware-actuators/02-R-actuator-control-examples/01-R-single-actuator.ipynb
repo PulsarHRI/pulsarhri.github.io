{
 "cells": [
  {
   "cell_type": "markdown",
   "id": "ee43cea2",
   "metadata": {},
   "source": [
    "# Pulsar Actuator Control via PCP_over_USB (One Target)\n",
    "\n",
    "This notebook demonstrates how to connect to a Pulsar actuator using the `pcp_api` library and `CANoverUSB`, configure feedback settings, and control one actuator in speed mode.\n",
    "## Import"
   ]
  },
  {
   "cell_type": "code",
   "execution_count": null,
   "id": "84f29671",
   "metadata": {},
   "outputs": [],
   "source": [
    "# Import necessary modules\n",
    "from pcp_api.PulsarActuator import PulsarActuator\n",
    "from pcp_api.can_over_usb import PCP_over_USB\n",
    "from pprint import pprint\n",
    "from time import sleep"
   ]
  },
  {
   "cell_type": "markdown",
   "id": "54cecac9",
   "metadata": {},
   "source": [
    "## Define the actuator address\n",
    "\n",
    "Use `0` for direct USB connection. If using a CAN adapter, specify the appropriate PCP address."
   ]
  },
  {
   "cell_type": "code",
   "execution_count": null,
   "id": "fc74fef8",
   "metadata": {},
   "outputs": [],
   "source": [
    "ACTUATOR_ADDRESS = 0"
   ]
  },
  {
   "cell_type": "markdown",
   "id": "7b102c55",
   "metadata": {},
   "source": [
    "## Define a feedback callback function\n",
    "\n",
    "This function will be called automatically when feedback is received from the actuator."
   ]
  },
  {
   "cell_type": "code",
   "execution_count": null,
   "id": "3be43395",
   "metadata": {},
   "outputs": [],
   "source": [
    "def actuator_feedback(address: int, feedback: dict):\n",
    "    print(feedback)\n",
    "    speed_fb = feedback.get(PulsarActuator.PCP_Items.SPEED_FB, None)\n",
    "    if speed_fb is not None:\n",
    "        print(f\"Actuator 0x{address:X} Speed feedback: {speed_fb:.2f} rad/s\")"
   ]
  },
  {
   "cell_type": "markdown",
   "id": "fa5beaf3",
   "metadata": {},
   "source": [
    "## Connect to the actuator\n",
    "\n",
    "Automatically detect the USB port and establish a connection to the actuator."
   ]
  },
  {
   "cell_type": "code",
   "execution_count": null,
   "id": "8208ad33",
   "metadata": {},
   "outputs": [],
   "source": [
    "port = PCP_over_USB.get_port()  # auto-detect\n",
    "print(f\"Connecting to {port}\")\n",
    "adapter = PCP_over_USB(port)\n",
    "actuator = PulsarActuator(adapter, ACTUATOR_ADDRESS)\n",
    "\n",
    "if not actuator.connect():\n",
    "    print(f\"Could not connect to the actuator {actuator.address}\")\n",
    "    adapter.close()\n",
    "    exit(1)\n",
    "else:\n",
    "    print(f\"Connected to the actuator {actuator.address}\")"
   ]
  },
  {
   "cell_type": "markdown",
   "id": "cfe8628e",
   "metadata": {},
   "source": [
    "## Configure feedback and control settings\n",
    "\n",
    "Set high-frequency and low-frequency feedback items, change the actuator mode to SPEED, and set a speed setpoint."
   ]
  },
  {
   "cell_type": "code",
   "execution_count": null,
   "id": "76eddc2c",
   "metadata": {},
   "outputs": [],
   "source": [
    "try:\n",
    "    # High-frequency feedback includes speed, position, and torque.\n",
    "    actuator.setHighFreqFeedbackItems([\n",
    "        PulsarActuator.PCP_Items.SPEED_FB,\n",
    "        PulsarActuator.PCP_Items.POSITION_FB,\n",
    "        PulsarActuator.PCP_Items.TORQUE_FB,\n",
    "    ])\n",
    "    actuator.setHighFreqFeedbackRate(actuator.Rates.RATE_10HZ)\n",
    "    actuator.set_feedback_callback(actuator_feedback)\n",
    "\n",
    "    # Low-frequency feedback includes bus voltage and motor temperature.\n",
    "    actuator.setLowFreqFeedbackItems([\n",
    "        PulsarActuator.PCP_Items.VBUS,\n",
    "        PulsarActuator.PCP_Items.TEMP_MOTOR,\n",
    "    ])\n",
    "    actuator.setLowFreqFeedbackRate(actuator.Rates.RATE_1HZ)\n",
    "\n",
    "    # The actuator is switched to SPEED mode and given a setpoint of 1 rad/s.\n",
    "    actuator.change_mode(PulsarActuator.Mode.SPEED)\n",
    "    actuator.change_setpoint(1)  # rad/s\n",
    "\n",
    "    # Parameters are retrieved and printed for inspection.\n",
    "    params = actuator.get_parameters_all()\n",
    "    pprint(params)\n",
    "    \n",
    "    # The actuator is started and feedback is monitored in a loop.\n",
    "    # The loop will keep running until interrupted (e.g., by pressing `Stop` in the notebook).\n",
    "    actuator.start()\n",
    "    while True:\n",
    "        sleep(0.1)  # actuator_feedback() should be triggered\n",
    "\n",
    "\n",
    "## Shutdown\n",
    "\n",
    "#Disconnect the actuator and close the adapter when the program is interrupted.\n",
    "\n",
    "except KeyboardInterrupt:\n",
    "    pass\n",
    "finally:\n",
    "    actuator.disconnect()\n",
    "    sleep(0.1)\n",
    "    adapter.close()\n"
   ]
  },
  {
   "cell_type": "code",
   "execution_count": null,
   "id": "ccf77d9d",
   "metadata": {},
   "outputs": [],
   "source": []
  }
 ],
 "metadata": {
  "kernelspec": {
   "display_name": "Python 3",
   "language": "python",
   "name": "python3"
  },
  "language_info": {
   "codemirror_mode": {
    "name": "ipython",
    "version": 3
   },
   "file_extension": ".py",
   "mimetype": "text/x-python",
   "name": "python",
   "nbconvert_exporter": "python",
   "pygments_lexer": "ipython3",
   "version": "3.12.10"
  }
 },
 "nbformat": 4,
 "nbformat_minor": 5
}
