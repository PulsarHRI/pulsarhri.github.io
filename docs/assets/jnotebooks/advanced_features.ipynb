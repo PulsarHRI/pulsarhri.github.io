{
 "cells": [
  {
   "cell_type": "markdown",
   "id": "76311fa0",
   "metadata": {},
   "source": [
    "# Advanced Pulsar Actuator Control via PCP_over_USB in Python\n",
    "This notebook demonstrates advanced configuration and control of a Pulsar actuator using the pcp_api library. It builds upon the basic example, which covers:\n",
    "\n",
    "* Connecting to the actuator\n",
    "* Setting feedback items and rates\n",
    "* Running in speed mode with a fixed setpoint\n",
    "\n",
    "## In this advanced tutorial, you will learn how to:\n",
    "\n",
    "* 🔄 Reset the encoder to define a custom zero position\n",
    "* 🆔 Change the actuator's PCP address dynamically\n",
    "* ⚙️ Tune performance profiles (torque and speed)\n",
    "* 🎛️ Set custom control parameters (e.g., stiffness and damping)\n",
    "* 💾 Optionally save configuration to persistent memory\n",
    "\n",
    "These features are useful for fine-tuning actuator behavior, multi-actuator setups, and persistent deployment scenarios."
   ]
  },
  {
   "cell_type": "markdown",
   "id": "a4ba8af6",
   "metadata": {},
   "source": [
    "## Import Required Modules"
   ]
  },
  {
   "cell_type": "code",
   "execution_count": null,
   "id": "e74e0a00",
   "metadata": {},
   "outputs": [],
   "source": [
    "# Import necessary modules\n",
    "from pcp_api.PulsarActuator import PulsarActuator\n",
    "from pcp_api.can_over_usb import PCP_over_USB\n",
    "from pprint import pprint\n",
    "from time import sleep"
   ]
  },
  {
   "cell_type": "markdown",
   "id": "d5c5f89b",
   "metadata": {},
   "source": [
    "## Detect and Connect to the CAN Adapter"
   ]
  },
  {
   "cell_type": "code",
   "execution_count": null,
   "id": "680c37c9",
   "metadata": {},
   "outputs": [],
   "source": [
    "# Automatically detect the CAN port\n",
    "port = PCP_over_USB.get_port()\n",
    "print(f\"Connecting to {port}\")\n",
    "\n",
    "# Initialize the adapter\n",
    "adapter = PCP_over_USB(port)"
   ]
  },
  {
   "cell_type": "markdown",
   "id": "c77d79b0",
   "metadata": {},
   "source": [
    "## Initialize the Actuator"
   ]
  },
  {
   "cell_type": "code",
   "execution_count": null,
   "id": "dca4c08c",
   "metadata": {},
   "outputs": [],
   "source": [
    "# Create actuator instance with ID 0\n",
    "actuator = PulsarActuator(adapter, 0)\n",
    "\n",
    "# Attempt to connect\n",
    "if not actuator.connect():\n",
    "    print(\"Could not connect to the actuator\")\n",
    "    adapter.close()\n",
    "    raise SystemExit(\"Exiting due to connection failure.\")\n",
    "print(\"Connected to the actuator\")"
   ]
  },
  {
   "cell_type": "markdown",
   "id": "b4d5b9df",
   "metadata": {},
   "source": [
    "Here we define the performance for Torque and Speed Loops:\n",
    "* In this case we want a BALANCED behavior for the torque performance. \n",
    "* In thi case we want an AGRESSIVE mode for speed. \n",
    "\n",
    "Also it is possible to set some control parameters as the Damping Factor and The Stiffnes."
   ]
  },
  {
   "cell_type": "code",
   "execution_count": null,
   "id": "4b3c076d",
   "metadata": {},
   "outputs": [],
   "source": [
    "K_DAMPING = 7.7\n",
    "K_STIFFNESS = 8.8 "
   ]
  },
  {
   "cell_type": "code",
   "execution_count": null,
   "id": "4aed29b9",
   "metadata": {},
   "outputs": [],
   "source": [
    "try:\n",
    "    # Sets the current position as the home position (zero reference)\n",
    "    actuator.set_home_position()\n",
    "\n",
    "    # Change the actuator's address (optional)\n",
    "    actuator.changeAddress(0x15)\n",
    "\n",
    "    # Set performance modes\n",
    "    actuator.set_torque_performance(PulsarActuator.TorquePerformance.AGGRESSIVE)\n",
    "    actuator.set_speed_performance(PulsarActuator.SpeedPerformance.AGGRESSIVE)\n",
    "\n",
    "    # Set control parameters\n",
    "    actuator.set_parameters({\n",
    "        PulsarActuator.PCP_Parameters.K_DAMPING: K_DAMPING ,\n",
    "        PulsarActuator.PCP_Parameters.K_STIFFNESS: K_STIFFNESS,\n",
    "    })\n",
    "\n",
    "    # Optional: Save configuration to persistent memory\n",
    "    actuator.save_config()\n",
    "\n",
    "except KeyboardInterrupt:\n",
    "    print(\"Interrupted by user.\")\n",
    "    \n",
    "finally:\n",
    "    actuator.disconnect()\n",
    "    sleep(0.1)\n",
    "    adapter.close()\n",
    "    print(\"Disconnected and cleaned up.\")"
   ]
  },
  {
   "cell_type": "markdown",
   "id": "5e46df4c",
   "metadata": {},
   "source": [
    "# Run and Verify That the Motor Control Behaves as Required"
   ]
  },
  {
   "cell_type": "code",
   "execution_count": null,
   "id": "d44bf903",
   "metadata": {},
   "outputs": [],
   "source": [
    "def actuator_feedback(address: int, feedback: dict):\n",
    "    print(feedback)\n",
    "    speed_fb = feedback.get(PulsarActuator.PCP_Items.SPEED_FB, None)\n",
    "    if speed_fb is not None:\n",
    "        print(f\"Actuator 0x{address:X} Speed feedback: {speed_fb:.2f} rad/s\")\n",
    "        \n",
    "ACTUATOR_ADDRESS = 0\n",
    "       \n",
    "port = PCP_over_USB.get_port()  # auto-detect\n",
    "print(f\"Connecting to {port}\")\n",
    "adapter = PCP_over_USB(port)\n",
    "actuator = PulsarActuator(adapter, ACTUATOR_ADDRESS)\n",
    "\n",
    "if not actuator.connect():\n",
    "    print(f\"Could not connect to the actuator {actuator.address}\")\n",
    "    adapter.close()\n",
    "    exit(1)\n",
    "else:\n",
    "    print(f\"Connected to the actuator {actuator.address}\")"
   ]
  },
  {
   "cell_type": "code",
   "execution_count": null,
   "id": "dfdbeb67",
   "metadata": {},
   "outputs": [],
   "source": [
    "try:\n",
    "    actuator.setHighFreqFeedbackItems([\n",
    "        PulsarActuator.PCP_Items.SPEED_FB,\n",
    "        PulsarActuator.PCP_Items.POSITION_FB,\n",
    "        PulsarActuator.PCP_Items.TORQUE_FB,\n",
    "    ])\n",
    "    actuator.setHighFreqFeedbackRate(actuator.Rates.RATE_10HZ)\n",
    "    actuator.set_feedback_callback(actuator_feedback)\n",
    "\n",
    "    actuator.setLowFreqFeedbackItems([\n",
    "        PulsarActuator.PCP_Items.VBUS,\n",
    "        PulsarActuator.PCP_Items.TEMP_MOTOR,\n",
    "    ])\n",
    "    actuator.setLowFreqFeedbackRate(actuator.Rates.RATE_1HZ)\n",
    "\n",
    "    actuator.change_mode(PulsarActuator.Mode.SPEED)\n",
    "    actuator.change_setpoint(1)  # rad/s\n",
    "    # Retrieve and Display Actuator Parameters\n",
    "    params = actuator.get_parameters_all()\n",
    "    pprint(params)\n",
    "    \n",
    "    # Start the actuator and monitor feedback\n",
    "\n",
    "    # The loop will keep running until interrupted (e.g., by pressing `Stop` in the notebook).\n",
    "    actuator.start()\n",
    "    while True:\n",
    "        sleep(0.1)  # actuator_feedback() should be triggered\n",
    "\n",
    "## Shutdown\n",
    "\n",
    "#Disconnect the actuator and close the adapter when the program is interrupted.\n",
    "\n",
    "except KeyboardInterrupt:\n",
    "    pass\n",
    "finally:\n",
    "    actuator.disconnect()\n",
    "    sleep(0.1)\n",
    "    adapter.close()"
   ]
  },
  {
   "cell_type": "code",
   "execution_count": null,
   "id": "3a70b8f5",
   "metadata": {},
   "outputs": [],
   "source": []
  }
 ],
 "metadata": {
  "kernelspec": {
   "display_name": "PulsarVenv",
   "language": "python",
   "name": "python3"
  },
  "language_info": {
   "codemirror_mode": {
    "name": "ipython",
    "version": 3
   },
   "file_extension": ".py",
   "mimetype": "text/x-python",
   "name": "python",
   "nbconvert_exporter": "python",
   "pygments_lexer": "ipython3",
   "version": "3.12.10"
  }
 },
 "nbformat": 4,
 "nbformat_minor": 5
}
