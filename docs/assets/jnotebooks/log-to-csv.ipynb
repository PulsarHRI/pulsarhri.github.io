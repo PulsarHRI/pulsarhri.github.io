{
 "cells": [
  {
   "cell_type": "markdown",
   "id": "3a483f98",
   "metadata": {},
   "source": [
    "# Advanced Pulsar Actuator Control via PCP_over_USB in Python (Logging to CSV)\n",
    "This script is designed to connect to a Pulsar actuator via a CAN-over-USB adapter, log sensor data at high frequency, and save it to a CSV file."
   ]
  },
  {
   "cell_type": "code",
   "execution_count": null,
   "id": "7422e617",
   "metadata": {},
   "outputs": [],
   "source": [
    "# Import necessary modules\n",
    "from pcp_api.PulsarActuator import PulsarActuator\n",
    "from pcp_api.can_over_usb import PCP_over_USB\n",
    "from time import sleep, time\n",
    "import csv"
   ]
  },
  {
   "cell_type": "markdown",
   "id": "6cec2879",
   "metadata": {},
   "source": [
    "## Connect to the CAN Adapter"
   ]
  },
  {
   "cell_type": "code",
   "execution_count": null,
   "id": "2736b660",
   "metadata": {},
   "outputs": [],
   "source": [
    "# Automatically detect the CAN port\n",
    "port = PCP_over_USB.get_port()\n",
    "print(f\"Connecting to {port}\")\n",
    "\n",
    "# Initialize the adapter\n",
    "adapter = PCP_over_USB(port)"
   ]
  },
  {
   "cell_type": "markdown",
   "id": "daef02a7",
   "metadata": {},
   "source": [
    "# Initialize the Actuator"
   ]
  },
  {
   "cell_type": "markdown",
   "id": "e2a99cd5",
   "metadata": {},
   "source": [
    "This creates an actuator object at address 0"
   ]
  },
  {
   "cell_type": "code",
   "execution_count": null,
   "id": "250222c3",
   "metadata": {},
   "outputs": [],
   "source": [
    "actuator = PulsarActuator(adapter, 0)"
   ]
  },
  {
   "cell_type": "markdown",
   "id": "d3560754",
   "metadata": {},
   "source": [
    "## Specify the Logging Variables\n",
    "Specifies which sensor data to log (e.g., torque sensor, PCB temperature)"
   ]
  },
  {
   "cell_type": "code",
   "execution_count": null,
   "id": "a2fac453",
   "metadata": {},
   "outputs": [],
   "source": [
    "itemsToLog = [\n",
    "    PulsarActuator.PCP_Items.TORQUE_SENS_RAW,\n",
    "    PulsarActuator.PCP_Items.TEMP_PCB,\n",
    "]"
   ]
  },
  {
   "cell_type": "markdown",
   "id": "df57ebf7",
   "metadata": {},
   "source": [
    "## Connect to the Actuator"
   ]
  },
  {
   "cell_type": "code",
   "execution_count": null,
   "id": "70e661bd",
   "metadata": {},
   "outputs": [],
   "source": [
    "if not actuator.connect():\n",
    "    print(f\"Could not connect to the actuator {actuator.address}\")\n",
    "    adapter.close()\n",
    "    exit(1)\n",
    "print(f\"Connected to the actuator {actuator.address}\")"
   ]
  },
  {
   "cell_type": "markdown",
   "id": "a1209455",
   "metadata": {},
   "source": [
    "## Configuration of the Feedback Rates\n",
    "* Sets up high-frequency feedback (1kHz) for selected items.\n",
    "* Disables low-frequency feedback."
   ]
  },
  {
   "cell_type": "code",
   "execution_count": null,
   "id": "d6922990",
   "metadata": {},
   "outputs": [],
   "source": [
    "actuator.setHighFreqFeedbackItems(itemsToLog)\n",
    "actuator.setHighFreqFeedbackRate(actuator.Rates.RATE_1KHZ)\n",
    "actuator.setLowFreqFeedbackRate(actuator.Rates.DISABLED)"
   ]
  },
  {
   "cell_type": "markdown",
   "id": "b5a40e7b",
   "metadata": {},
   "source": [
    "## Preaparig CSV Logging \n",
    "This opens a CSV file for writing"
   ]
  },
  {
   "cell_type": "code",
   "execution_count": null,
   "id": "4c9f9748",
   "metadata": {},
   "outputs": [],
   "source": [
    "file = open(\"log.csv\", \"w\")\n",
    "csv_writer = csv.writer(file, lineterminator='\\n')"
   ]
  },
  {
   "cell_type": "markdown",
   "id": "8095c45f",
   "metadata": {},
   "source": [
    "Adding a hearer row with the timestamp and item names"
   ]
  },
  {
   "cell_type": "code",
   "execution_count": null,
   "id": "ebd55a06",
   "metadata": {},
   "outputs": [],
   "source": [
    "# add header\n",
    "header = [time()]  # timestamp\n",
    "header.extend([item.name for item in sorted(itemsToLog, key=lambda x: x.name)])  # sorted by name for consistent order\n",
    "csv_writer.writerow(header)"
   ]
  },
  {
   "cell_type": "markdown",
   "id": "74ddec5c",
   "metadata": {},
   "source": [
    "## Define Feedback Callback\n",
    "This function is called whenever new feedback data is recieved"
   ]
  },
  {
   "cell_type": "code",
   "execution_count": null,
   "id": "60978358",
   "metadata": {},
   "outputs": [],
   "source": [
    "def actuator_feedback(address: int, feedback: dict):\n",
    "    line = [time()]  # timestamp\n",
    "    line.extend([feedback[k] for k in sorted(feedback.keys())])  # sorted keys for consistent order\n",
    "    csv_writer.writerow(line)"
   ]
  },
  {
   "cell_type": "markdown",
   "id": "e379ab42",
   "metadata": {},
   "source": [
    "## Start Actuator"
   ]
  },
  {
   "cell_type": "code",
   "execution_count": null,
   "id": "3ea78eb8",
   "metadata": {},
   "outputs": [],
   "source": [
    "actuator.change_mode(PulsarActuator.Mode.SPEED)\n",
    "actuator.change_setpoint(1)\n",
    "actuator.start()\n",
    "actuator.set_feedback_callback(actuator_feedback)"
   ]
  },
  {
   "cell_type": "markdown",
   "id": "24c61ddb",
   "metadata": {},
   "source": [
    "## Run and Cleanup \n",
    "This runs for 3 seconds, then disconnects and closes everything"
   ]
  },
  {
   "cell_type": "code",
   "execution_count": null,
   "id": "3c48d161",
   "metadata": {},
   "outputs": [],
   "source": [
    "try:\n",
    "    sleep(3)  # actuator_feedback() should be triggered during this time\n",
    "except KeyboardInterrupt:\n",
    "    pass\n",
    "finally:\n",
    "    actuator.disconnect()  # also stops the actuator\n",
    "    sleep(0.1)\n",
    "    adapter.close()\n",
    "    file.close()\n"
   ]
  },
  {
   "cell_type": "markdown",
   "id": "9b9cbdbb",
   "metadata": {},
   "source": [
    "The CSV is updated for postprocessing"
   ]
  },
  {
   "cell_type": "code",
   "execution_count": null,
   "id": "846e8f93",
   "metadata": {},
   "outputs": [],
   "source": []
  }
 ],
 "metadata": {
  "kernelspec": {
   "display_name": "Python 3",
   "language": "python",
   "name": "python3"
  },
  "language_info": {
   "codemirror_mode": {
    "name": "ipython",
    "version": 3
   },
   "file_extension": ".py",
   "mimetype": "text/x-python",
   "name": "python",
   "nbconvert_exporter": "python",
   "pygments_lexer": "ipython3",
   "version": "3.12.10"
  }
 },
 "nbformat": 4,
 "nbformat_minor": 5
}
