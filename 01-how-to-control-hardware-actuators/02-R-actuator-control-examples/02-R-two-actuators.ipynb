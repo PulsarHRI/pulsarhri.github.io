{
 "cells": [
  {
   "cell_type": "markdown",
   "id": "997b091d",
   "metadata": {},
   "source": [
    "# Pulsar Actuator Control using CANoverUSB (Two Targets)\n",
    "This notebook demonstrates how to control Pulsar actuators using the CANoverUSB interface. We will go through the steps of connecting to the USB-CAN adapter, initializing the actuators, configuring them, and finally running them."
   ]
  },
  {
   "cell_type": "code",
   "execution_count": null,
   "id": "22e6ac95",
   "metadata": {},
   "outputs": [],
   "source": [
    "# Import necessary modules\n",
    "from pcp_api.PulsarActuator import PulsarActuator\n",
    "from pcp_api.can_over_usb import CANoverUSB\n",
    "from pprint import pprint\n",
    "from time import sleep"
   ]
  },
  {
   "cell_type": "markdown",
   "id": "1900804a",
   "metadata": {},
   "source": [
    "## Define Constants and Feedback Function\n",
    "We define the CSP addresses for the actuators and a feedback function to handle actuator feedback."
   ]
  },
  {
   "cell_type": "code",
   "execution_count": null,
   "id": "542713aa",
   "metadata": {},
   "outputs": [],
   "source": [
    "# Example CSP addresses for two actuators\n",
    "CSP_ADDRESSES = [0x10, 0x11]"
   ]
  },
  {
   "cell_type": "markdown",
   "id": "e515b497",
   "metadata": {},
   "source": [
    "## Define a feedback callback function\n",
    "\n",
    "This function will be called automatically when feedback is received from the actuator."
   ]
  },
  {
   "cell_type": "code",
   "execution_count": null,
   "id": "85d8719c",
   "metadata": {},
   "outputs": [],
   "source": [
    "def actuator_feedback(address: int, feedback: dict):\n",
    "    position = feedback.get(PulsarActuator.PCP_Items.POSITION_FB, None)\n",
    "    print(f\"Actuator 0x{address:X} position: {position:.2f} rad/s\")"
   ]
  },
  {
   "cell_type": "markdown",
   "id": "e075bbae",
   "metadata": {},
   "source": [
    "## Connect to USB-CAN Adapter\n",
    "We connect to the USB-CAN adapter. The port is auto-detected."
   ]
  },
  {
   "cell_type": "code",
   "execution_count": null,
   "id": "84837c17",
   "metadata": {},
   "outputs": [],
   "source": [
    "# Auto-detect the port\n",
    "port = CANoverUSB.get_port()\n",
    "print(f\"Connecting to {port}\")\n",
    "adapter = CANoverUSB(port)"
   ]
  },
  {
   "cell_type": "markdown",
   "id": "b12f553a",
   "metadata": {},
   "source": [
    "## Initialize and Configure Actuators\n",
    "We initialize the actuators, connect to them, and configure their feedback settings."
   ]
  },
  {
   "cell_type": "code",
   "execution_count": null,
   "id": "c87f8bb8",
   "metadata": {},
   "outputs": [],
   "source": [
    "actuators = []\n",
    "\n",
    "for address in CSP_ADDRESSES:\n",
    "    # Create a PulsarActuator instance.\n",
    "    actuator = PulsarActuator(adapter, address)\n",
    "\n",
    "    # Attempt to connect to the actuator.\n",
    "    if not actuator.connect():\n",
    "        print(f\"Could not connect to the actuator {actuator.address}\")\n",
    "        adapter.close()\n",
    "        raise SystemExit(1)\n",
    "\n",
    "    print(f\"Connected to the actuator {actuator.address}\")\n",
    "\n",
    "    # Configure high-frequency feedback to report position at 10 Hz.\n",
    "    actuator.setHighFreqFeedbackItems([\n",
    "        PulsarActuator.PCP_Items.POSITION_FB,\n",
    "    ])\n",
    "    actuator.setHighFreqFeedbackRate(actuator.Rates.RATE_10HZ)\n",
    "\n",
    "    # Disable low-frequency feedback.\n",
    "    actuator.setLowFreqFeedbackRate(actuator.Rates.DISABLED)\n",
    "\n",
    "    # Set the actuator to SPEED mode.\n",
    "    actuator.change_mode(PulsarActuator.Mode.SPEED)\n",
    "\n",
    "    # Register the feedback callback function.\n",
    "    actuator.set_feedback_callback(actuator_feedback)\n",
    "\n",
    "    actuators.append(actuator)\n",
    "    "
   ]
  },
  {
   "cell_type": "markdown",
   "id": "ab366c43",
   "metadata": {},
   "source": [
    "## Set Setpoints and Start Actuators\n",
    "We set different speeds for each actuator and start them."
   ]
  },
  {
   "cell_type": "code",
   "execution_count": null,
   "id": "e8b993a6",
   "metadata": {},
   "outputs": [],
   "source": [
    "# Set different speeds for each actuator\n",
    "actuators[0].change_setpoint(0.2)\n",
    "actuators[1].change_setpoint(0.3)\n",
    "\n",
    "# Start all actuators\n",
    "for actuator in actuators:\n",
    "    actuator.start()"
   ]
  },
  {
   "cell_type": "markdown",
   "id": "46535863",
   "metadata": {},
   "source": [
    "## Run and Cleanup\n",
    "We run the actuators for a short period and then clean up by disconnecting the actuators and closing the adapter."
   ]
  },
  {
   "cell_type": "code",
   "execution_count": null,
   "id": "377de1aa",
   "metadata": {},
   "outputs": [],
   "source": [
    "try:\n",
    "    sleep(0.1)  # Let feedback trigger\n",
    "except KeyboardInterrupt:\n",
    "    pass\n",
    "finally:\n",
    "    for actuator in actuators:\n",
    "        actuator.disconnect()\n",
    "    sleep(0.1)\n",
    "    adapter.close()"
   ]
  }
 ],
 "metadata": {
  "kernelspec": {
   "display_name": "Python 3",
   "language": "python",
   "name": "python3"
  },
  "language_info": {
   "codemirror_mode": {
    "name": "ipython",
    "version": 3
   },
   "file_extension": ".py",
   "mimetype": "text/x-python",
   "name": "python",
   "nbconvert_exporter": "python",
   "pygments_lexer": "ipython3",
   "version": "3.12.10"
  }
 },
 "nbformat": 4,
 "nbformat_minor": 5
}
